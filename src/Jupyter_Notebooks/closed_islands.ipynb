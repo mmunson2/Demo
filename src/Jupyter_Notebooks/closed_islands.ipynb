{
 "cells": [
  {
   "attachments": {},
   "cell_type": "markdown",
   "metadata": {},
   "source": [
    "# Leetcode 1254: Number of Closed Islands\n",
    "\n",
    "Given a 2D grid consists of 0s (land) and 1s (water).  An island is a maximal 4-directionally connected group of 0s and a closed island is an island totally (all left, top, right, bottom) surrounded by 1s.\n",
    "\n",
    "Return the number of closed islands.\n",
    "\n",
    "## Driver"
   ]
  },
  {
   "cell_type": "code",
   "execution_count": 6,
   "metadata": {},
   "outputs": [
    {
     "name": "stdout",
     "output_type": "stream",
     "text": [
      "The number of closed islands is: 1\n"
     ]
    }
   ],
   "source": [
    "grid = [[0,1,1,1,1,1,1,1],\n",
    "        [1,0,1,0,0,0,0,1],\n",
    "        [1,0,0,0,0,1,0,1],\n",
    "        [0,1,0,0,0,1,0,1],\n",
    "        [1,0,0,1,0,1,0,1],\n",
    "        [1,1,1,1,0,0,1,1],\n",
    "        [1,0,0,0,0,0,1,1],\n",
    "        [0,1,1,1,1,1,1,1]]\n",
    "\n",
    "islandCount = closedIsland(grid)\n",
    "\n",
    "print(\"The number of closed islands is: \" + str(islandCount))"
   ]
  },
  {
   "attachments": {},
   "cell_type": "markdown",
   "metadata": {},
   "source": [
    "## Closed Islands\n",
    "\n",
    "Loops through each element in the 2D array. If the element is zero, it's explored using the recursive search function. \n",
    "\n",
    "The recursive search function returns a tuple of the updated grid, and whether the search went out of bounds. If the search was contained, an island was discovered, and the islandCount is incremented."
   ]
  },
  {
   "cell_type": "code",
   "execution_count": 4,
   "metadata": {},
   "outputs": [],
   "source": [
    "def closedIsland(grid):\n",
    "\n",
    "    islandCount = 0\n",
    "\n",
    "    for row in range(0, len(grid)):\n",
    "        for col in range(0, len(grid[row])):\n",
    "            if grid[row][col] == 0:\n",
    "                grid, contained = recursive_search(grid, row, col)\n",
    "\n",
    "                if(contained):\n",
    "                    islandCount += 1\n",
    "\n",
    "    return islandCount"
   ]
  },
  {
   "attachments": {},
   "cell_type": "markdown",
   "metadata": {},
   "source": [
    "## Recursive Search\n",
    "\n",
    "Base cases are:\n",
    "\n",
    "1. The current row/col is out of bounds of the array. This means that the current search is not contained.\n",
    "2. The current row/col has been visited. Does not change the contained boolean\n",
    "\n",
    "If neither of the base cases is met, we're at an unvisited row/column. We set visited to true so we don't recurse forever. Then we perform a recursive search to the left, right, top, and bottom. "
   ]
  },
  {
   "cell_type": "code",
   "execution_count": 1,
   "metadata": {},
   "outputs": [],
   "source": [
    "def recursive_search(grid, row, col):\n",
    "    if row >= len(grid) or row < 0 or col >= len(grid[row]) or col < 0:\n",
    "        return grid, False\n",
    "    elif grid[row][col] == 1:\n",
    "        return grid, True\n",
    "    else:\n",
    "        grid[row][col] = 1\n",
    "\n",
    "        grid, leftContained = recursive_search(grid, row, col - 1)\n",
    "        grid, rightContained = recursive_search(grid, row, col + 1)\n",
    "        grid, topContained = recursive_search(grid, row - 1, col)\n",
    "        grid, bottomContained = recursive_search(grid, row + 1, col)\n",
    "\n",
    "        return grid, leftContained and rightContained and topContained and bottomContained"
   ]
  }
 ],
 "metadata": {
  "kernelspec": {
   "display_name": "base",
   "language": "python",
   "name": "python3"
  },
  "language_info": {
   "codemirror_mode": {
    "name": "ipython",
    "version": 3
   },
   "file_extension": ".py",
   "mimetype": "text/x-python",
   "name": "python",
   "nbconvert_exporter": "python",
   "pygments_lexer": "ipython3",
   "version": "3.6.5"
  },
  "orig_nbformat": 4
 },
 "nbformat": 4,
 "nbformat_minor": 2
}
