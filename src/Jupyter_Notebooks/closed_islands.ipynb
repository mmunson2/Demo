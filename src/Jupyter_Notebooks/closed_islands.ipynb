{
 "cells": [
  {
   "attachments": {},
   "cell_type": "markdown",
   "metadata": {},
   "source": [
    "Given a 2D grid consists of 0s (land) and 1s (water).  An island is a maximal 4-directionally connected group of 0s and a closed island is an island totally (all left, top, right, bottom) surrounded by 1s.\n",
    "\n",
    "Return the number of closed islands."
   ]
  },
  {
   "cell_type": "code",
   "execution_count": 51,
   "metadata": {},
   "outputs": [
    {
     "name": "stdout",
     "output_type": "stream",
     "text": [
      "[1, 1, 1, 1, 1, 1, 1, 1]\n",
      "[1, 0, 1, 0, 0, 0, 0, 1]\n",
      "[1, 0, 0, 0, 0, 1, 0, 1]\n",
      "[0, 1, 0, 0, 0, 1, 0, 1]\n",
      "[1, 0, 0, 1, 0, 1, 0, 1]\n",
      "[1, 1, 1, 1, 0, 0, 1, 1]\n",
      "[1, 0, 0, 0, 0, 0, 1, 1]\n",
      "[0, 1, 1, 1, 1, 1, 1, 1]\n",
      "\n",
      "[1, 1, 1, 1, 1, 1, 1, 1]\n",
      "[1, 1, 1, 1, 1, 1, 1, 1]\n",
      "[1, 1, 1, 1, 1, 1, 1, 1]\n",
      "[0, 1, 1, 1, 1, 1, 1, 1]\n",
      "[1, 1, 1, 1, 1, 1, 1, 1]\n",
      "[1, 1, 1, 1, 1, 1, 1, 1]\n",
      "[1, 1, 1, 1, 1, 1, 1, 1]\n",
      "[0, 1, 1, 1, 1, 1, 1, 1]\n",
      "\n",
      "1\n",
      "[1, 1, 1, 1, 1, 1, 1, 1]\n",
      "[1, 1, 1, 1, 1, 1, 1, 1]\n",
      "[1, 1, 1, 1, 1, 1, 1, 1]\n",
      "[1, 1, 1, 1, 1, 1, 1, 1]\n",
      "[1, 1, 1, 1, 1, 1, 1, 1]\n",
      "[1, 1, 1, 1, 1, 1, 1, 1]\n",
      "[1, 1, 1, 1, 1, 1, 1, 1]\n",
      "[0, 1, 1, 1, 1, 1, 1, 1]\n",
      "\n",
      "[1, 1, 1, 1, 1, 1, 1, 1]\n",
      "[1, 1, 1, 1, 1, 1, 1, 1]\n",
      "[1, 1, 1, 1, 1, 1, 1, 1]\n",
      "[1, 1, 1, 1, 1, 1, 1, 1]\n",
      "[1, 1, 1, 1, 1, 1, 1, 1]\n",
      "[1, 1, 1, 1, 1, 1, 1, 1]\n",
      "[1, 1, 1, 1, 1, 1, 1, 1]\n",
      "[1, 1, 1, 1, 1, 1, 1, 1]\n",
      "\n",
      "1\n"
     ]
    }
   ],
   "source": [
    "grid = [[0,1,1,1,1,1,1,1],\n",
    "        [1,0,1,0,0,0,0,1],\n",
    "        [1,0,0,0,0,1,0,1],\n",
    "        [0,1,0,0,0,1,0,1],\n",
    "        [1,0,0,1,0,1,0,1],\n",
    "        [1,1,1,1,0,0,1,1],\n",
    "        [1,0,0,0,0,0,1,1],\n",
    "        [0,1,1,1,1,1,1,1]]\n",
    "\n",
    "islandCount = closedIsland(grid)\n",
    "\n",
    "print(islandCount)"
   ]
  },
  {
   "cell_type": "code",
   "execution_count": 50,
   "metadata": {},
   "outputs": [],
   "source": [
    "def closedIsland(grid):\n",
    "\n",
    "    islandCount = 0\n",
    "\n",
    "    for row in range(0, len(grid)):\n",
    "        for col in range(0, len(grid[row])):\n",
    "            if grid[row][col] == 0:\n",
    "                grid, contained = bfs(grid, row, col)\n",
    "\n",
    "                if(contained):\n",
    "                    islandCount += 1\n",
    "                    print(islandCount)\n",
    "\n",
    "    return islandCount"
   ]
  },
  {
   "cell_type": "code",
   "execution_count": 49,
   "metadata": {},
   "outputs": [],
   "source": [
    "def bfs(grid, row, col):\n",
    "    if row >= len(grid) or row < 0 or col >= len(grid[row]) or col < 0:\n",
    "        return grid, False\n",
    "    elif grid[row][col] == 1:\n",
    "        return grid, True\n",
    "    else:\n",
    "        grid[row][col] = 1\n",
    "\n",
    "        # print(\"Marked: \" + str(row) + \", \" + str(col))\n",
    "\n",
    "        grid, leftContained = bfs(grid, row, col - 1)\n",
    "        grid, rightContained = bfs(grid, row, col + 1)\n",
    "        grid, topContained = bfs(grid, row - 1, col)\n",
    "        grid, bottomContained = bfs(grid, row + 1, col)\n",
    "\n",
    "        return grid, leftContained and rightContained and topContained and bottomContained"
   ]
  }
 ],
 "metadata": {
  "kernelspec": {
   "display_name": "base",
   "language": "python",
   "name": "python3"
  },
  "language_info": {
   "codemirror_mode": {
    "name": "ipython",
    "version": 3
   },
   "file_extension": ".py",
   "mimetype": "text/x-python",
   "name": "python",
   "nbconvert_exporter": "python",
   "pygments_lexer": "ipython3",
   "version": "3.6.5"
  },
  "orig_nbformat": 4
 },
 "nbformat": 4,
 "nbformat_minor": 2
}
