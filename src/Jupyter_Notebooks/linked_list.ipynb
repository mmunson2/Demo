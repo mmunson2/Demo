{
 "cells": [
  {
   "attachments": {},
   "cell_type": "markdown",
   "metadata": {},
   "source": [
    "## Data Structures\n",
    "\n",
    "Using Python to implement a Stack built on top of a linked list.\n"
   ]
  },
  {
   "attachments": {},
   "cell_type": "markdown",
   "metadata": {},
   "source": [
    "### Node Class\n",
    "\n",
    "Basic Node for use in a Linked List. For demo purposes it's only holding a number as data. The `__str__()` method is overridden so that a linked list will print out nicely."
   ]
  },
  {
   "cell_type": "code",
   "execution_count": 1,
   "metadata": {},
   "outputs": [],
   "source": [
    "class Node:\n",
    "    data = 0\n",
    "    next = None\n",
    "\n",
    "    def __init__(self, data):\n",
    "        self.data = data\n",
    "\n",
    "    def __str__(self):\n",
    "        return f\"[{self.data}] -> {self.next}\""
   ]
  },
  {
   "attachments": {},
   "cell_type": "markdown",
   "metadata": {},
   "source": [
    "### Stack Class\n",
    "\n",
    "A stack implemented with a linked list of Nodes! Must always hold at least one piece of data. Only allows data insertion/retrieval with push and pop. `__str__()` simply prints the head, since this will automatically print everything in the list"
   ]
  },
  {
   "cell_type": "code",
   "execution_count": 7,
   "metadata": {},
   "outputs": [],
   "source": [
    "class Stack:\n",
    "    head = None\n",
    "\n",
    "    def __init__(self, data):\n",
    "        self.head = Node(data)\n",
    "    \n",
    "    def push(self, data):\n",
    "        if self.head is None:\n",
    "            self.head = Node(data)\n",
    "\n",
    "        elif self.head.next is None:\n",
    "            next_node = Node(data)\n",
    "            self.head.next = next_node\n",
    "\n",
    "        else:\n",
    "            current_node = self.head\n",
    "\n",
    "            while current_node.next is not None:\n",
    "                current_node = current_node.next\n",
    "\n",
    "            next_node = Node(data)\n",
    "            current_node.next = next_node\n",
    "            \n",
    "    def pop(self):\n",
    "        if self.head is None:\n",
    "            raise ValueError(\"Stack is empty!\")\n",
    "        \n",
    "        elif self.head.next is None:\n",
    "            retval = self.head.data\n",
    "\n",
    "            self.head = None\n",
    "\n",
    "            return retval\n",
    "\n",
    "        else:\n",
    "            current_node = self.head\n",
    "            next_node = self.head.next\n",
    "\n",
    "            while next_node.next is not None:\n",
    "                next_node = next_node.next\n",
    "                current_node = current_node.next\n",
    "            \n",
    "            retval = next_node.data\n",
    "\n",
    "            current_node.next = None\n",
    "\n",
    "            return retval\n",
    "    \n",
    "    def __str__(self):\n",
    "        return self.head.__str__()"
   ]
  },
  {
   "attachments": {},
   "cell_type": "markdown",
   "metadata": {},
   "source": [
    "### Basic Driver\n",
    "\n",
    "Now we put our Stack to the test!"
   ]
  },
  {
   "cell_type": "code",
   "execution_count": 10,
   "metadata": {},
   "outputs": [
    {
     "name": "stdout",
     "output_type": "stream",
     "text": [
      "After adding four Nodes to my stack, it looks like:\n",
      "[1] -> [2] -> [3] -> [4] -> None\n",
      "After popping once, it looks like:\n",
      "[1] -> [2] -> [3] -> None\n",
      "And after popping twice more, it looks like:\n",
      "[1] -> None\n"
     ]
    }
   ],
   "source": [
    "testStack = Stack(1)\n",
    "testStack.push(2)\n",
    "testStack.push(3)\n",
    "testStack.push(4)\n",
    "\n",
    "print(\"After adding four Nodes to my stack, it looks like:\")\n",
    "print(testStack)\n",
    "\n",
    "testStack.pop()\n",
    "\n",
    "print (\"After popping once, it looks like:\")\n",
    "print(testStack)\n",
    "\n",
    "testStack.pop()\n",
    "testStack.pop()\n",
    "\n",
    "print(\"And after popping twice more, it looks like:\")\n",
    "print(testStack)\n"
   ]
  }
 ],
 "metadata": {
  "kernelspec": {
   "display_name": "Python 3",
   "language": "python",
   "name": "python3"
  },
  "language_info": {
   "codemirror_mode": {
    "name": "ipython",
    "version": 3
   },
   "file_extension": ".py",
   "mimetype": "text/x-python",
   "name": "python",
   "nbconvert_exporter": "python",
   "pygments_lexer": "ipython3",
   "version": "3.9.6 (default, Oct 18 2022, 12:41:40) \n[Clang 14.0.0 (clang-1400.0.29.202)]"
  },
  "orig_nbformat": 4,
  "vscode": {
   "interpreter": {
    "hash": "31f2aee4e71d21fbe5cf8b01ff0e069b9275f58929596ceb00d14d90e3e16cd6"
   }
  }
 },
 "nbformat": 4,
 "nbformat_minor": 2
}
