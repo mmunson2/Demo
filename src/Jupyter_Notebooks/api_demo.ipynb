{
 "cells": [
  {
   "attachments": {},
   "cell_type": "markdown",
   "metadata": {},
   "source": [
    "# API Demo\n",
    "\n",
    "Demonstrating how a Jupyter notebook can hit APIs and retrieve information\n",
    "\n",
    "\n",
    "### Imports"
   ]
  },
  {
   "cell_type": "code",
   "execution_count": 1,
   "metadata": {},
   "outputs": [],
   "source": [
    "import requests\n",
    "import json"
   ]
  },
  {
   "attachments": {},
   "cell_type": "markdown",
   "metadata": {},
   "source": [
    "## Helper Functions"
   ]
  },
  {
   "cell_type": "code",
   "execution_count": 5,
   "metadata": {},
   "outputs": [],
   "source": [
    "def get_code_description(code):\n",
    "\n",
    "    url = \"https://cdn.jsdelivr.net/gh/fawazahmed0/currency-api@1/latest/currencies.json\"\n",
    "\n",
    "    response = requests.get(url)\n",
    "\n",
    "    data = json.loads(response.text)\n",
    "\n",
    "    return data[code]"
   ]
  },
  {
   "cell_type": "code",
   "execution_count": 3,
   "metadata": {},
   "outputs": [],
   "source": [
    "def get_exchanged_currency(starting_code, target_code, starting_amount):\n",
    "\n",
    "    url = f'https://cdn.jsdelivr.net/gh/fawazahmed0/currency-api@1/latest/currencies/{starting_code}.json'\n",
    "\n",
    "    response = requests.get(url)\n",
    "\n",
    "    data = json.loads(response.text)\n",
    "\n",
    "    conversion_rate = data[starting_code][target_code]\n",
    "\n",
    "    converted_amount = starting_amount * conversion_rate\n",
    "\n",
    "    return converted_amount"
   ]
  },
  {
   "attachments": {},
   "cell_type": "markdown",
   "metadata": {},
   "source": [
    "## Demonstration Call"
   ]
  },
  {
   "cell_type": "code",
   "execution_count": 6,
   "metadata": {},
   "outputs": [
    {
     "name": "stdout",
     "output_type": "stream",
     "text": [
      "The starting amount of 500 United States dollar converts to 459.71 Euro\n"
     ]
    }
   ],
   "source": [
    "# Input Variables\n",
    "starting_amount = 500\n",
    "\n",
    "starting_code = \"usd\"\n",
    "target_code = \"eur\"\n",
    "\n",
    "# Function Calls\n",
    "converted_value = get_exchanged_currency(starting_code, target_code, starting_amount)\n",
    "\n",
    "starting_code_description = get_code_description(starting_code)\n",
    "target_code_description = get_code_description(target_code)\n",
    "\n",
    "# Output\n",
    "print(f'The starting amount of {starting_amount} {starting_code_description} converts to {converted_value} {target_code_description}')\n"
   ]
  }
 ],
 "metadata": {
  "interpreter": {
   "hash": "06275f5e63409d89e7c1b078d204f936dba2db779c3401c6d0563cdde5360707"
  },
  "kernelspec": {
<<<<<<< Updated upstream
   "display_name": "Python 3.9.7 ('base')",
=======
   "display_name": "Python 3",
>>>>>>> Stashed changes
   "language": "python",
   "name": "python3"
  },
  "language_info": {
   "codemirror_mode": {
    "name": "ipython",
    "version": 3
   },
   "file_extension": ".py",
   "mimetype": "text/x-python",
   "name": "python",
   "nbconvert_exporter": "python",
   "pygments_lexer": "ipython3",
<<<<<<< Updated upstream
   "version": "3.9.7"
=======
   "version": "3.9.6 (default, Oct 18 2022, 12:41:40) \n[Clang 14.0.0 (clang-1400.0.29.202)]"
>>>>>>> Stashed changes
  },
  "orig_nbformat": 4,
  "vscode": {
   "interpreter": {
    "hash": "31f2aee4e71d21fbe5cf8b01ff0e069b9275f58929596ceb00d14d90e3e16cd6"
   }
  }
 },
 "nbformat": 4,
 "nbformat_minor": 2
}
