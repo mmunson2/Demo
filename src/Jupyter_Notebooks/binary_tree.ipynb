{
 "cells": [
  {
   "attachments": {},
   "cell_type": "markdown",
   "metadata": {},
   "source": [
    "## Binary Tree Example"
   ]
  },
  {
   "cell_type": "code",
   "execution_count": 15,
   "metadata": {},
   "outputs": [],
   "source": [
    "class TreeNode:\n",
    "\n",
    "    def __init__(self, data):\n",
    "        self.data = data\n",
    "        self.left = None\n",
    "        self.right = None\n",
    "    \n",
    "    def __str__(self):\n",
    "        return f\"[{self.data}] Left -> ({self.left}) Right -> ({self.right})\"\n",
    "\n",
    "    # Implement Comparison operator overloads\n",
    "    def __gt__(self, other):\n",
    "        if other is None:\n",
    "            return False\n",
    "\n",
    "        return self.data > other.data\n",
    "    \n",
    "    def __lt__(self, other):\n",
    "        if other is None:\n",
    "            return False\n",
    "\n",
    "        return self.data < other.data\n",
    "    \n",
    "    def __ge__(self, other):\n",
    "        if other is None:\n",
    "            return False\n",
    "\n",
    "        return self.data >= other.data\n",
    "    \n",
    "    def __le__(self, other):\n",
    "        if other is None:\n",
    "            return False\n",
    "\n",
    "        return self.data <= other.data\n",
    "\n",
    "    def __eq__(self, other):\n",
    "        if other is None:\n",
    "            return False\n",
    "\n",
    "        return self.data == other.data\n",
    "    \n",
    "    def __ne__(self, other):\n",
    "        if other is None:\n",
    "            return False\n",
    "\n",
    "        return self.data != other.data"
   ]
  },
  {
   "cell_type": "code",
   "execution_count": 16,
   "metadata": {},
   "outputs": [],
   "source": [
    "class SimpleBinaryTree:\n",
    "    \n",
    "    def __init__(self, data):\n",
    "        self.head = TreeNode(data)\n",
    "    \n",
    "    def push(self, data):\n",
    "        newNode = TreeNode(data)\n",
    "\n",
    "        self.__recursive_push(self.head, newNode)\n",
    "    \n",
    "    def contains(self, data):\n",
    "        compareNode = TreeNode(data)\n",
    "\n",
    "        contains_value = self.__recursive_check(self.head, compareNode)\n",
    "\n",
    "        return contains_value\n",
    "    \n",
    "    def remove(self, data):\n",
    "        deleteNode = TreeNode(data)\n",
    "\n",
    "        if(deleteNode == self.head):\n",
    "            raise ValueError(\"Can't delete the head!\")\n",
    "\n",
    "        deleted_value = self.__recursive_delete(self.head, deleteNode)\n",
    "\n",
    "        return deleted_value\n",
    "\n",
    "    def __recursive_push(self, currentNode, newNode):\n",
    "        if newNode < currentNode:\n",
    "            if currentNode.left is None:\n",
    "                currentNode.left = newNode\n",
    "            else:\n",
    "                self.__recursive_push(currentNode.left, newNode)\n",
    "        else:\n",
    "            if currentNode.right is None:\n",
    "                currentNode.right = newNode\n",
    "            else:\n",
    "                self.__recursive_push(currentNode.right, newNode)\n",
    "    \n",
    "    def __recursive_check(self, currentNode, compareNode):\n",
    "        if currentNode == compareNode:\n",
    "            return True\n",
    "        \n",
    "        on_left = False\n",
    "        on_right = False\n",
    "        \n",
    "        if currentNode.left is not None:\n",
    "            on_left = self.__recursive_check(currentNode.left, compareNode)\n",
    "        if currentNode.right is not None:\n",
    "            on_right = self.__recursive_check(currentNode.right, compareNode)\n",
    "        \n",
    "        return on_left or on_right\n",
    "    \n",
    "    def __recursive_delete(self, currentNode, deleteNode):\n",
    "        \n",
    "        if(currentNode.left == deleteNode):\n",
    "            right_node = currentNode.left.right\n",
    "            left_node = currentNode.left.left\n",
    "\n",
    "            if(right_node is not None):\n",
    "                currentNode.left = right_node\n",
    "\n",
    "                self.__recursive_push(currentNode.left, left_node)\n",
    "            elif(left_node is not None):\n",
    "                currentNode.left = left_node\n",
    "            else:\n",
    "                currentNode.left = None\n",
    "        if(currentNode.right == deleteNode):\n",
    "            right_node = currentNode.right.right\n",
    "            left_node = currentNode.right.left\n",
    "\n",
    "            if(right_node is not None):\n",
    "                currentNode.right = right_node\n",
    "\n",
    "                self.__recursive_push(currentNode.right, left_node)\n",
    "            elif(left_node is not None):\n",
    "                currentNode.right = left_node\n",
    "            else:\n",
    "                currentNode.right = None\n",
    "\n",
    "\n",
    "\n",
    "    \n",
    "    def __str__(self):\n",
    "        return self.head.__str__()\n"
   ]
  },
  {
   "cell_type": "code",
   "execution_count": 17,
   "metadata": {},
   "outputs": [
    {
     "name": "stdout",
     "output_type": "stream",
     "text": [
      "[1] Left -> (None) Right -> ([20] Left -> ([18] Left -> ([5] Left -> (None) Right -> (None)) Right -> (None)) Right -> (None))\n"
     ]
    }
   ],
   "source": [
    "tree = SimpleBinaryTree(1)\n",
    "tree.push(10)\n",
    "tree.push(5)\n",
    "tree.push(20)\n",
    "tree.push(18)\n",
    "\n",
    "tree.remove(10)\n",
    "\n",
    "print(tree)"
   ]
  },
  {
   "cell_type": "code",
   "execution_count": 12,
   "metadata": {},
   "outputs": [
    {
     "name": "stdout",
     "output_type": "stream",
     "text": [
      "[1] Left -> ([-1] Left -> (None) Right -> (None)) Right -> ([2] Left -> (None) Right -> (None))\n"
     ]
    },
    {
     "data": {
      "text/plain": [
       "True"
      ]
     },
     "execution_count": 12,
     "metadata": {},
     "output_type": "execute_result"
    }
   ],
   "source": [
    "tree = SimpleBinaryTree(1)\n",
    "tree.push(2)\n",
    "tree.push(-1)\n",
    "\n",
    "\n",
    "\n",
    "print(tree)\n",
    "\n",
    "tree.contains(-1)\n",
    "\n",
    "# Could do a delete method -> Handle the case of deleting a parent node\n",
    "\n",
    "# Tree balancing, usually another method we call upon insert. \n",
    "    # Start by writing is_balanced(), go from there\n",
    "\n",
    "# Red-black trees\n",
    "    # "
   ]
  }
 ],
 "metadata": {
  "kernelspec": {
   "display_name": "Python 3",
   "language": "python",
   "name": "python3"
  },
  "language_info": {
   "codemirror_mode": {
    "name": "ipython",
    "version": 3
   },
   "file_extension": ".py",
   "mimetype": "text/x-python",
   "name": "python",
   "nbconvert_exporter": "python",
   "pygments_lexer": "ipython3",
   "version": "3.9.6"
  },
  "orig_nbformat": 4,
  "vscode": {
   "interpreter": {
    "hash": "31f2aee4e71d21fbe5cf8b01ff0e069b9275f58929596ceb00d14d90e3e16cd6"
   }
  }
 },
 "nbformat": 4,
 "nbformat_minor": 2
}
