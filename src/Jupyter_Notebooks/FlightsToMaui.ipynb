{
 "cells": [
  {
   "attachments": {},
   "cell_type": "markdown",
   "metadata": {},
   "source": [
    "# Flights to Maui\n",
    "\n",
    "You are given an array of integers representing how much it costs to fly to Maui on a given day.\n",
    "\n",
    "Return an array of integers representing how long until the price will decrease for a given day.\n",
    "\n",
    "If the price for a given day will not decrease, the value should be zero.\n",
    "\n",
    "For example, for input {350, 351, 350, 360, 320} the result should be\n",
    "{4, 1, 2, 1, 0}\n",
    "\n",
    "\n",
    "\n"
   ]
  },
  {
   "attachments": {},
   "cell_type": "markdown",
   "metadata": {},
   "source": [
    "## Naive Solution\n",
    "\n",
    "This solution uses an O(N^2) approach to check each element, then the rest of the remaining array to find when the price decreases. This is a simple solution to implement but is not optimized."
   ]
  },
  {
   "cell_type": "code",
   "execution_count": 2,
   "metadata": {},
   "outputs": [],
   "source": [
    "def naiveFlightsToMaui(input):\n",
    "\n",
    "    daysToWait = []\n",
    "    \n",
    "    for i in range(0, len(input)):\n",
    "\n",
    "        currentPrice = input[i]\n",
    "\n",
    "        for j in range(i, len(input)):\n",
    "\n",
    "            if(input[j] < currentPrice):\n",
    "                break\n",
    "        \n",
    "        daysToWait.append(j - i)\n",
    "\n",
    "    return daysToWait"
   ]
  },
  {
   "cell_type": "code",
   "execution_count": 3,
   "metadata": {},
   "outputs": [
    {
     "name": "stdout",
     "output_type": "stream",
     "text": [
      "[4, 1, 2, 1, 0]\n"
     ]
    }
   ],
   "source": [
    "input = [350, 351, 350, 360, 320]\n",
    "\n",
    "output = naiveFlightsToMaui(input)\n",
    "\n",
    "print(output)"
   ]
  },
  {
   "attachments": {},
   "cell_type": "markdown",
   "metadata": {},
   "source": [
    "## Stack Solution\n",
    "\n",
    "We can reduce the worst-case complexity to O(N) by using a stack. This will hold each index and its associated cost. At each index in the cost array we peek the top of the stack and determine if the current cost is less than the stored value. If so, we pop the stack, assign the stored index the difference in indices (i - stored Index), and repeat the check until the stack is empty or the current value is greater than or equal to the stored value.\n",
    "\n",
    "If we reach the end of the array, we could pop the remainder of the stack and assign zeros. For this solution I've chosen to pre-initialize the output array with zeros so this is not necessary.\n",
    "\n",
    "\n"
   ]
  },
  {
   "cell_type": "code",
   "execution_count": 4,
   "metadata": {},
   "outputs": [],
   "source": [
    "def stackFlightsToMaui(input):\n",
    "    daysToWait = []\n",
    "    indexPriceStack = []\n",
    "\n",
    "    for i in range(0, len(input)):\n",
    "        # Preinitialize daysToWait with zeros\n",
    "        daysToWait.append(0)\n",
    "\n",
    "        for j in range(0, len(indexPriceStack)):\n",
    "            if(input[i] < input[indexPriceStack[len(indexPriceStack) - 1]]):\n",
    "                index = indexPriceStack.pop()\n",
    "                daysToWait[index] = i - index\n",
    "            else:\n",
    "                break\n",
    "        \n",
    "        indexPriceStack.append(i)\n",
    "    \n",
    "    return daysToWait"
   ]
  },
  {
   "cell_type": "code",
   "execution_count": 5,
   "metadata": {},
   "outputs": [
    {
     "name": "stdout",
     "output_type": "stream",
     "text": [
      "[4, 1, 2, 1, 0]\n"
     ]
    }
   ],
   "source": [
    "input = [350, 351, 350, 360, 320]\n",
    "\n",
    "output = stackFlightsToMaui(input)\n",
    "\n",
    "print(output)"
   ]
  }
 ],
 "metadata": {
  "kernelspec": {
   "display_name": "Python 3",
   "language": "python",
   "name": "python3"
  },
  "language_info": {
   "codemirror_mode": {
    "name": "ipython",
    "version": 3
   },
   "file_extension": ".py",
   "mimetype": "text/x-python",
   "name": "python",
   "nbconvert_exporter": "python",
   "pygments_lexer": "ipython3",
   "version": "3.6.5"
  },
  "orig_nbformat": 4
 },
 "nbformat": 4,
 "nbformat_minor": 2
}
