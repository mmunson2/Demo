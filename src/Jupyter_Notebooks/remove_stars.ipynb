{
 "cells": [
  {
   "attachments": {},
   "cell_type": "markdown",
   "metadata": {},
   "source": [
    "## Leetcode #2390: Remove stars from a string\n",
    "\n",
    "You are given a string s, which contains stars *.\n",
    "\n",
    "In one operation, you can:\n",
    "\n",
    "1. Choose a star in s.\n",
    "2. Remove the closest non-star character to its left, as well as remove the star itself.\n",
    "\n",
    "Return the string after all stars have been removed.\n",
    "\n",
    "### Note:\n",
    "\n",
    "The input will be generated such that the operation is always possible.\n",
    "It can be shown that the resulting string will always be unique.\n",
    "\n",
    "\n",
    "## Naive Solution\n",
    "The first thing that came to my mind was:\n",
    "\n",
    "    - Loop through each index of the string\n",
    "    - If the current index is a star, go backwards and somehow remove elements\n",
    "    \n",
    "This isn't ideal as it has loops inside of loops, potentially netting a worse-than O(N) solution that this problem seems to be asking for.\n",
    "\n",
    "## Stack Solution\n",
    "\n",
    "I pondered sliding windows for a bit before I realized that a data structure could help me out a lot here. The plan is:\n",
    "\n",
    "- Add non-star characters to a stack\n",
    "- If I get a star, pop the stack and don't add the star.\n",
    "- When I finish, stop treating my data structure like a stack and read it out from beginning to end.\n",
    "    \n",
    "This ensures an O(N) solution. It uses slightly more memory by making a list of strings. I can't think of an easy way to optimize this though as strings are immutable in Python and there isn't a string buffer in widespread use."
   ]
  },
  {
   "cell_type": "code",
   "execution_count": 32,
   "metadata": {},
   "outputs": [],
   "source": [
    "def removeStars(s):\n",
    "    \n",
    "    outArray = []\n",
    "    \n",
    "    for character in s:\n",
    "        \n",
    "        if character == \"*\":\n",
    "            outArray.pop()\n",
    "        else:\n",
    "            outArray.append(character)\n",
    "            \n",
    "            \n",
    "    return \"\".join(outArray)"
   ]
  },
  {
   "cell_type": "code",
   "execution_count": 33,
   "metadata": {},
   "outputs": [
    {
     "data": {
      "text/plain": [
       "'ExampExample'"
      ]
     },
     "execution_count": 33,
     "metadata": {},
     "output_type": "execute_result"
    }
   ],
   "source": [
    "removeStars(\"Example**Example\")"
   ]
  },
  {
   "cell_type": "code",
   "execution_count": null,
   "metadata": {},
   "outputs": [],
   "source": [
    "removeStars(\"leet**cod*e\")"
   ]
  },
  {
   "cell_type": "code",
   "execution_count": null,
   "metadata": {},
   "outputs": [],
   "source": [
    "removeStars(\"erase*****\")"
   ]
  }
 ],
 "metadata": {
  "kernelspec": {
   "display_name": "Python 3 (ipykernel)",
   "language": "python",
   "name": "python3"
  },
  "language_info": {
   "codemirror_mode": {
    "name": "ipython",
    "version": 3
   },
   "file_extension": ".py",
   "mimetype": "text/x-python",
   "name": "python",
   "nbconvert_exporter": "python",
   "pygments_lexer": "ipython3",
   "version": "3.9.13"
  }
 },
 "nbformat": 4,
 "nbformat_minor": 2
}
